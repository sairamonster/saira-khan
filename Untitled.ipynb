{
 "cells": [
  {
   "cell_type": "code",
   "execution_count": 1,
   "metadata": {},
   "outputs": [],
   "source": [
    "import pandas as pd\n",
    "import numpy as np\n",
    "import matplotlib.pyplot as plt\n",
    "import seaborn as sns\n",
    "import os"
   ]
  },
  {
   "cell_type": "code",
   "execution_count": 3,
   "metadata": {},
   "outputs": [
    {
     "data": {
      "text/plain": [
       "['.ipynb_checkpoints',\n",
       " 'Sales-April.csv',\n",
       " 'Sales-Februrary.csv',\n",
       " 'Sales-January.csv',\n",
       " 'Sales-March.csv',\n",
       " 'Sales-May.csv',\n",
       " 'Untitled.ipynb']"
      ]
     },
     "execution_count": 3,
     "metadata": {},
     "output_type": "execute_result"
    }
   ],
   "source": [
    "import os\n",
    "path=r\"C:\\Users\\KHAN\\Desktop\\video working\"\n",
    "os.listdir(path)"
   ]
  },
  {
   "cell_type": "code",
   "execution_count": 22,
   "metadata": {},
   "outputs": [],
   "source": [
    "files=[file for file in os.listdir(path)if not file.startswith('.')]\n",
    "all_data=pd.DataFrame()\n",
    "for file in files:\n",
    "    raw_data=pd.read_csv(path+'/'+file,encoding='latin1')\n",
    "    all_data=pd.concat([all_data,raw_data],ignore_index=True,axis=0)\n",
    "all_data .to_csv('all_data.csv',index=False)"
   ]
  },
  {
   "cell_type": "code",
   "execution_count": 33,
   "metadata": {
    "scrolled": true
   },
   "outputs": [
    {
     "data": {
      "text/html": [
       "<div>\n",
       "<style scoped>\n",
       "    .dataframe tbody tr th:only-of-type {\n",
       "        vertical-align: middle;\n",
       "    }\n",
       "\n",
       "    .dataframe tbody tr th {\n",
       "        vertical-align: top;\n",
       "    }\n",
       "\n",
       "    .dataframe thead th {\n",
       "        text-align: right;\n",
       "    }\n",
       "</style>\n",
       "<table border=\"1\" class=\"dataframe\">\n",
       "  <thead>\n",
       "    <tr style=\"text-align: right;\">\n",
       "      <th></th>\n",
       "      <th>Sales Representative</th>\n",
       "      <th>Location</th>\n",
       "      <th>Region</th>\n",
       "      <th>Customer</th>\n",
       "      <th>Order Date</th>\n",
       "      <th>Item</th>\n",
       "      <th>Quantity</th>\n",
       "      <th>Price</th>\n",
       "      <th>Total Sale Amount</th>\n",
       "      <th>day</th>\n",
       "      <th>month</th>\n",
       "      <th>year</th>\n",
       "      <th>minute</th>\n",
       "      <th>hour</th>\n",
       "    </tr>\n",
       "  </thead>\n",
       "  <tbody>\n",
       "    <tr>\n",
       "      <th>0</th>\n",
       "      <td>Patrick Graham</td>\n",
       "      <td>Washington</td>\n",
       "      <td>West</td>\n",
       "      <td>Jeremy Baker</td>\n",
       "      <td>2016-04-01</td>\n",
       "      <td>Junk</td>\n",
       "      <td>8</td>\n",
       "      <td>12.42</td>\n",
       "      <td>99.36</td>\n",
       "      <td>1</td>\n",
       "      <td>4</td>\n",
       "      <td>2016</td>\n",
       "      <td>0</td>\n",
       "      <td>0</td>\n",
       "    </tr>\n",
       "    <tr>\n",
       "      <th>1</th>\n",
       "      <td>Frances Warren</td>\n",
       "      <td>New Jersey</td>\n",
       "      <td>East</td>\n",
       "      <td>Albert Dunn</td>\n",
       "      <td>2016-04-01</td>\n",
       "      <td>Widgets</td>\n",
       "      <td>9</td>\n",
       "      <td>53.35</td>\n",
       "      <td>480.15</td>\n",
       "      <td>1</td>\n",
       "      <td>4</td>\n",
       "      <td>2016</td>\n",
       "      <td>0</td>\n",
       "      <td>0</td>\n",
       "    </tr>\n",
       "    <tr>\n",
       "      <th>2</th>\n",
       "      <td>Sara Snyder</td>\n",
       "      <td>New York</td>\n",
       "      <td>East</td>\n",
       "      <td>Robert Hayes</td>\n",
       "      <td>2016-04-01</td>\n",
       "      <td>Junk</td>\n",
       "      <td>4</td>\n",
       "      <td>12.42</td>\n",
       "      <td>49.68</td>\n",
       "      <td>1</td>\n",
       "      <td>4</td>\n",
       "      <td>2016</td>\n",
       "      <td>0</td>\n",
       "      <td>0</td>\n",
       "    </tr>\n",
       "    <tr>\n",
       "      <th>3</th>\n",
       "      <td>Randy Watson</td>\n",
       "      <td>New York</td>\n",
       "      <td>East</td>\n",
       "      <td>Cheryl Riley</td>\n",
       "      <td>2016-04-01</td>\n",
       "      <td>Widgets</td>\n",
       "      <td>5</td>\n",
       "      <td>53.35</td>\n",
       "      <td>266.75</td>\n",
       "      <td>1</td>\n",
       "      <td>4</td>\n",
       "      <td>2016</td>\n",
       "      <td>0</td>\n",
       "      <td>0</td>\n",
       "    </tr>\n",
       "    <tr>\n",
       "      <th>4</th>\n",
       "      <td>Randy Watson</td>\n",
       "      <td>New Jersey</td>\n",
       "      <td>East</td>\n",
       "      <td>Kimberly Coleman</td>\n",
       "      <td>2016-04-01</td>\n",
       "      <td>Widgets</td>\n",
       "      <td>2</td>\n",
       "      <td>53.35</td>\n",
       "      <td>106.70</td>\n",
       "      <td>1</td>\n",
       "      <td>4</td>\n",
       "      <td>2016</td>\n",
       "      <td>0</td>\n",
       "      <td>0</td>\n",
       "    </tr>\n",
       "    <tr>\n",
       "      <th>...</th>\n",
       "      <td>...</td>\n",
       "      <td>...</td>\n",
       "      <td>...</td>\n",
       "      <td>...</td>\n",
       "      <td>...</td>\n",
       "      <td>...</td>\n",
       "      <td>...</td>\n",
       "      <td>...</td>\n",
       "      <td>...</td>\n",
       "      <td>...</td>\n",
       "      <td>...</td>\n",
       "      <td>...</td>\n",
       "      <td>...</td>\n",
       "      <td>...</td>\n",
       "    </tr>\n",
       "    <tr>\n",
       "      <th>495</th>\n",
       "      <td>Patrick Graham</td>\n",
       "      <td>Washington</td>\n",
       "      <td>West</td>\n",
       "      <td>Karen Willis</td>\n",
       "      <td>2016-02-07</td>\n",
       "      <td>Junk</td>\n",
       "      <td>9</td>\n",
       "      <td>12.42</td>\n",
       "      <td>111.78</td>\n",
       "      <td>7</td>\n",
       "      <td>2</td>\n",
       "      <td>2016</td>\n",
       "      <td>0</td>\n",
       "      <td>0</td>\n",
       "    </tr>\n",
       "    <tr>\n",
       "      <th>496</th>\n",
       "      <td>Frances Warren</td>\n",
       "      <td>New Jersey</td>\n",
       "      <td>East</td>\n",
       "      <td>Russell Day</td>\n",
       "      <td>2016-02-07</td>\n",
       "      <td>Stuff</td>\n",
       "      <td>6</td>\n",
       "      <td>16.32</td>\n",
       "      <td>97.92</td>\n",
       "      <td>7</td>\n",
       "      <td>2</td>\n",
       "      <td>2016</td>\n",
       "      <td>0</td>\n",
       "      <td>0</td>\n",
       "    </tr>\n",
       "    <tr>\n",
       "      <th>497</th>\n",
       "      <td>Sara Snyder</td>\n",
       "      <td>Massachusetts</td>\n",
       "      <td>East</td>\n",
       "      <td>Susan Watkins</td>\n",
       "      <td>2016-02-07</td>\n",
       "      <td>Widgets</td>\n",
       "      <td>7</td>\n",
       "      <td>53.35</td>\n",
       "      <td>373.45</td>\n",
       "      <td>7</td>\n",
       "      <td>2</td>\n",
       "      <td>2016</td>\n",
       "      <td>0</td>\n",
       "      <td>0</td>\n",
       "    </tr>\n",
       "    <tr>\n",
       "      <th>498</th>\n",
       "      <td>Patrick Graham</td>\n",
       "      <td>Washington</td>\n",
       "      <td>West</td>\n",
       "      <td>Craig Reyes</td>\n",
       "      <td>2016-02-07</td>\n",
       "      <td>Junk</td>\n",
       "      <td>9</td>\n",
       "      <td>12.42</td>\n",
       "      <td>111.78</td>\n",
       "      <td>7</td>\n",
       "      <td>2</td>\n",
       "      <td>2016</td>\n",
       "      <td>0</td>\n",
       "      <td>0</td>\n",
       "    </tr>\n",
       "    <tr>\n",
       "      <th>499</th>\n",
       "      <td>Patrick Graham</td>\n",
       "      <td>Oregon</td>\n",
       "      <td>West</td>\n",
       "      <td>Teresa Fisher</td>\n",
       "      <td>2016-02-08</td>\n",
       "      <td>Widgets</td>\n",
       "      <td>5</td>\n",
       "      <td>53.35</td>\n",
       "      <td>266.75</td>\n",
       "      <td>8</td>\n",
       "      <td>2</td>\n",
       "      <td>2016</td>\n",
       "      <td>0</td>\n",
       "      <td>0</td>\n",
       "    </tr>\n",
       "  </tbody>\n",
       "</table>\n",
       "<p>500 rows × 14 columns</p>\n",
       "</div>"
      ],
      "text/plain": [
       "    Sales Representative       Location Region          Customer Order Date  \\\n",
       "0         Patrick Graham     Washington   West      Jeremy Baker 2016-04-01   \n",
       "1         Frances Warren     New Jersey   East       Albert Dunn 2016-04-01   \n",
       "2            Sara Snyder       New York   East      Robert Hayes 2016-04-01   \n",
       "3           Randy Watson       New York   East      Cheryl Riley 2016-04-01   \n",
       "4           Randy Watson     New Jersey   East  Kimberly Coleman 2016-04-01   \n",
       "..                   ...            ...    ...               ...        ...   \n",
       "495       Patrick Graham     Washington   West      Karen Willis 2016-02-07   \n",
       "496       Frances Warren     New Jersey   East       Russell Day 2016-02-07   \n",
       "497          Sara Snyder  Massachusetts   East     Susan Watkins 2016-02-07   \n",
       "498       Patrick Graham     Washington   West       Craig Reyes 2016-02-07   \n",
       "499       Patrick Graham         Oregon   West     Teresa Fisher 2016-02-08   \n",
       "\n",
       "        Item  Quantity  Price  Total Sale Amount  day  month  year  minute  \\\n",
       "0       Junk         8  12.42              99.36    1      4  2016       0   \n",
       "1    Widgets         9  53.35             480.15    1      4  2016       0   \n",
       "2       Junk         4  12.42              49.68    1      4  2016       0   \n",
       "3    Widgets         5  53.35             266.75    1      4  2016       0   \n",
       "4    Widgets         2  53.35             106.70    1      4  2016       0   \n",
       "..       ...       ...    ...                ...  ...    ...   ...     ...   \n",
       "495     Junk         9  12.42             111.78    7      2  2016       0   \n",
       "496    Stuff         6  16.32              97.92    7      2  2016       0   \n",
       "497  Widgets         7  53.35             373.45    7      2  2016       0   \n",
       "498     Junk         9  12.42             111.78    7      2  2016       0   \n",
       "499  Widgets         5  53.35             266.75    8      2  2016       0   \n",
       "\n",
       "     hour  \n",
       "0       0  \n",
       "1       0  \n",
       "2       0  \n",
       "3       0  \n",
       "4       0  \n",
       "..    ...  \n",
       "495     0  \n",
       "496     0  \n",
       "497     0  \n",
       "498     0  \n",
       "499     0  \n",
       "\n",
       "[500 rows x 14 columns]"
      ]
     },
     "execution_count": 33,
     "metadata": {},
     "output_type": "execute_result"
    }
   ],
   "source": [
    "all_data.head(500)"
   ]
  },
  {
   "cell_type": "code",
   "execution_count": 34,
   "metadata": {},
   "outputs": [
    {
     "data": {
      "text/html": [
       "<div>\n",
       "<style scoped>\n",
       "    .dataframe tbody tr th:only-of-type {\n",
       "        vertical-align: middle;\n",
       "    }\n",
       "\n",
       "    .dataframe tbody tr th {\n",
       "        vertical-align: top;\n",
       "    }\n",
       "\n",
       "    .dataframe thead th {\n",
       "        text-align: right;\n",
       "    }\n",
       "</style>\n",
       "<table border=\"1\" class=\"dataframe\">\n",
       "  <thead>\n",
       "    <tr style=\"text-align: right;\">\n",
       "      <th></th>\n",
       "      <th>Sales Representative</th>\n",
       "      <th>Location</th>\n",
       "      <th>Region</th>\n",
       "      <th>Customer</th>\n",
       "      <th>Order Date</th>\n",
       "      <th>Item</th>\n",
       "      <th>Quantity</th>\n",
       "      <th>Price</th>\n",
       "      <th>Total Sale Amount</th>\n",
       "      <th>day</th>\n",
       "      <th>month</th>\n",
       "      <th>year</th>\n",
       "      <th>minute</th>\n",
       "      <th>hour</th>\n",
       "    </tr>\n",
       "  </thead>\n",
       "  <tbody>\n",
       "  </tbody>\n",
       "</table>\n",
       "</div>"
      ],
      "text/plain": [
       "Empty DataFrame\n",
       "Columns: [Sales Representative, Location, Region, Customer, Order Date, Item, Quantity, Price, Total Sale Amount, day, month, year, minute, hour]\n",
       "Index: []"
      ]
     },
     "metadata": {},
     "output_type": "display_data"
    }
   ],
   "source": [
    "n_df=all_data[all_data.isna().any(axis=1)]\n",
    "display(n_df.head())"
   ]
  },
  {
   "cell_type": "code",
   "execution_count": 37,
   "metadata": {},
   "outputs": [],
   "source": [
    "all_data=all_data.dropna(how='all')"
   ]
  },
  {
   "cell_type": "code",
   "execution_count": 23,
   "metadata": {},
   "outputs": [
    {
     "name": "stdout",
     "output_type": "stream",
     "text": [
      "<class 'pandas.core.frame.DataFrame'>\n",
      "RangeIndex: 1944 entries, 0 to 1943\n",
      "Data columns (total 9 columns):\n",
      " #   Column                Non-Null Count  Dtype  \n",
      "---  ------                --------------  -----  \n",
      " 0   Sales Representative  1944 non-null   object \n",
      " 1   Location              1944 non-null   object \n",
      " 2   Region                1944 non-null   object \n",
      " 3   Customer              1944 non-null   object \n",
      " 4   Order Date            1944 non-null   object \n",
      " 5   Item                  1944 non-null   object \n",
      " 6   Quantity              1944 non-null   int64  \n",
      " 7   Price                 1944 non-null   float64\n",
      " 8   Total Sale Amount     1944 non-null   float64\n",
      "dtypes: float64(2), int64(1), object(6)\n",
      "memory usage: 91.2+ KB\n"
     ]
    }
   ],
   "source": [
    "all_data.info()"
   ]
  },
  {
   "cell_type": "code",
   "execution_count": 26,
   "metadata": {},
   "outputs": [],
   "source": [
    "all_data['Price']=pd.to_numeric(all_data['Price'])\n",
    "all_data['Total Sale Amount']=pd.to_numeric(all_data['Total Sale Amount'])"
   ]
  },
  {
   "cell_type": "code",
   "execution_count": 28,
   "metadata": {},
   "outputs": [
    {
     "data": {
      "text/plain": [
       "pandas.core.series.Series"
      ]
     },
     "execution_count": 28,
     "metadata": {},
     "output_type": "execute_result"
    }
   ],
   "source": [
    "all_data['Order Date']=pd.to_datetime(all_data['Order Date'])\n",
    "all_data['Order Date'].dtype\n",
    "type(all_data['Order Date'])"
   ]
  },
  {
   "cell_type": "code",
   "execution_count": 29,
   "metadata": {},
   "outputs": [],
   "source": [
    "all_data['day']=(all_data['Order Date']).dt.day\n",
    "all_data['month']=(all_data['Order Date']).dt.month\n",
    "all_data['year']=(all_data['Order Date']).dt.year\n",
    "all_data['minute']=(all_data['Order Date']).dt.minute\n",
    "all_data['hour']=(all_data['Order Date']).dt.hour"
   ]
  },
  {
   "cell_type": "code",
   "execution_count": 30,
   "metadata": {},
   "outputs": [
    {
     "data": {
      "text/html": [
       "<div>\n",
       "<style scoped>\n",
       "    .dataframe tbody tr th:only-of-type {\n",
       "        vertical-align: middle;\n",
       "    }\n",
       "\n",
       "    .dataframe tbody tr th {\n",
       "        vertical-align: top;\n",
       "    }\n",
       "\n",
       "    .dataframe thead th {\n",
       "        text-align: right;\n",
       "    }\n",
       "</style>\n",
       "<table border=\"1\" class=\"dataframe\">\n",
       "  <thead>\n",
       "    <tr style=\"text-align: right;\">\n",
       "      <th></th>\n",
       "      <th>Quantity</th>\n",
       "      <th>Price</th>\n",
       "      <th>Total Sale Amount</th>\n",
       "      <th>day</th>\n",
       "      <th>month</th>\n",
       "      <th>year</th>\n",
       "      <th>minute</th>\n",
       "      <th>hour</th>\n",
       "    </tr>\n",
       "  </thead>\n",
       "  <tbody>\n",
       "    <tr>\n",
       "      <th>count</th>\n",
       "      <td>1944.000000</td>\n",
       "      <td>1944.000000</td>\n",
       "      <td>1944.000000</td>\n",
       "      <td>1944.000000</td>\n",
       "      <td>1944.000000</td>\n",
       "      <td>1944.0</td>\n",
       "      <td>1944.0</td>\n",
       "      <td>1944.0</td>\n",
       "    </tr>\n",
       "    <tr>\n",
       "      <th>mean</th>\n",
       "      <td>5.566358</td>\n",
       "      <td>22.880005</td>\n",
       "      <td>127.617577</td>\n",
       "      <td>15.584362</td>\n",
       "      <td>3.051955</td>\n",
       "      <td>2016.0</td>\n",
       "      <td>0.0</td>\n",
       "      <td>0.0</td>\n",
       "    </tr>\n",
       "    <tr>\n",
       "      <th>std</th>\n",
       "      <td>2.853016</td>\n",
       "      <td>15.999444</td>\n",
       "      <td>120.376376</td>\n",
       "      <td>8.325165</td>\n",
       "      <td>1.382888</td>\n",
       "      <td>0.0</td>\n",
       "      <td>0.0</td>\n",
       "      <td>0.0</td>\n",
       "    </tr>\n",
       "    <tr>\n",
       "      <th>min</th>\n",
       "      <td>1.000000</td>\n",
       "      <td>12.420000</td>\n",
       "      <td>12.420000</td>\n",
       "      <td>1.000000</td>\n",
       "      <td>1.000000</td>\n",
       "      <td>2016.0</td>\n",
       "      <td>0.0</td>\n",
       "      <td>0.0</td>\n",
       "    </tr>\n",
       "    <tr>\n",
       "      <th>25%</th>\n",
       "      <td>3.000000</td>\n",
       "      <td>12.420000</td>\n",
       "      <td>53.350000</td>\n",
       "      <td>8.000000</td>\n",
       "      <td>2.000000</td>\n",
       "      <td>2016.0</td>\n",
       "      <td>0.0</td>\n",
       "      <td>0.0</td>\n",
       "    </tr>\n",
       "    <tr>\n",
       "      <th>50%</th>\n",
       "      <td>6.000000</td>\n",
       "      <td>16.320000</td>\n",
       "      <td>97.920000</td>\n",
       "      <td>16.000000</td>\n",
       "      <td>3.000000</td>\n",
       "      <td>2016.0</td>\n",
       "      <td>0.0</td>\n",
       "      <td>0.0</td>\n",
       "    </tr>\n",
       "    <tr>\n",
       "      <th>75%</th>\n",
       "      <td>8.000000</td>\n",
       "      <td>17.830000</td>\n",
       "      <td>142.640000</td>\n",
       "      <td>23.000000</td>\n",
       "      <td>4.000000</td>\n",
       "      <td>2016.0</td>\n",
       "      <td>0.0</td>\n",
       "      <td>0.0</td>\n",
       "    </tr>\n",
       "    <tr>\n",
       "      <th>max</th>\n",
       "      <td>10.000000</td>\n",
       "      <td>53.350000</td>\n",
       "      <td>533.500000</td>\n",
       "      <td>31.000000</td>\n",
       "      <td>5.000000</td>\n",
       "      <td>2016.0</td>\n",
       "      <td>0.0</td>\n",
       "      <td>0.0</td>\n",
       "    </tr>\n",
       "  </tbody>\n",
       "</table>\n",
       "</div>"
      ],
      "text/plain": [
       "          Quantity        Price  Total Sale Amount          day        month  \\\n",
       "count  1944.000000  1944.000000        1944.000000  1944.000000  1944.000000   \n",
       "mean      5.566358    22.880005         127.617577    15.584362     3.051955   \n",
       "std       2.853016    15.999444         120.376376     8.325165     1.382888   \n",
       "min       1.000000    12.420000          12.420000     1.000000     1.000000   \n",
       "25%       3.000000    12.420000          53.350000     8.000000     2.000000   \n",
       "50%       6.000000    16.320000          97.920000    16.000000     3.000000   \n",
       "75%       8.000000    17.830000         142.640000    23.000000     4.000000   \n",
       "max      10.000000    53.350000         533.500000    31.000000     5.000000   \n",
       "\n",
       "         year  minute    hour  \n",
       "count  1944.0  1944.0  1944.0  \n",
       "mean   2016.0     0.0     0.0  \n",
       "std       0.0     0.0     0.0  \n",
       "min    2016.0     0.0     0.0  \n",
       "25%    2016.0     0.0     0.0  \n",
       "50%    2016.0     0.0     0.0  \n",
       "75%    2016.0     0.0     0.0  \n",
       "max    2016.0     0.0     0.0  "
      ]
     },
     "execution_count": 30,
     "metadata": {},
     "output_type": "execute_result"
    }
   ],
   "source": [
    "all_data.describe()"
   ]
  },
  {
   "cell_type": "code",
   "execution_count": 40,
   "metadata": {},
   "outputs": [
    {
     "data": {
      "image/png": "[encoded data removed]",
      "text/plain": [
       "<Figure size 432x288 with 1 Axes>"
      ]
     },
     "metadata": {},
     "output_type": "display_data"
    }
   ],
   "source": [
    "sns.set(style=\"darkgrid\")\n",
    "REGION=sns.countplot(x=\"Region\",data=all_data).set_title(\"DEMANDING REGION\")\n"
   ]
  },
  {
   "cell_type": "code",
   "execution_count": 41,
   "metadata": {},
   "outputs": [
    {
     "data": {
      "image/png": "[encoded data removed]",
      "text/plain": [
       "<Figure size 432x288 with 1 Axes>"
      ]
     },
     "metadata": {},
     "output_type": "display_data"
    }
   ],
   "source": [
    "sns.set(style=\"whitegrid\")\n",
    "REGION=sns.countplot(x=\"Location\",data=all_data).set_title(\"LOCATION SELECTION\")"
   ]
  },
  {
   "cell_type": "code",
   "execution_count": 44,
   "metadata": {},
   "outputs": [
    {
     "data": {
      "image/png": "[encoded data removed]",
      "text/plain": [
       "<Figure size 432x288 with 1 Axes>"
      ]
     },
     "metadata": {},
     "output_type": "display_data"
    }
   ],
   "source": [
    "sns.set(style=\"dark\")\n",
    "REGION=sns.countplot(x=\"Sales Representative\",data=all_data).set_title(\"manager selection\")"
   ]
  },
  {
   "cell_type": "code",
   "execution_count": 45,
   "metadata": {},
   "outputs": [
    {
     "data": {
      "image/png": "[encoded data removed]",
      "text/plain": [
       "<Figure size 432x288 with 1 Axes>"
      ]
     },
     "metadata": {},
     "output_type": "display_data"
    }
   ],
   "source": [
    "gendercount=sns.lineplot(x=\"day\",y=\"Item\",data=all_data).set_title(\"ITEMS PER DAY\")"
   ]
  },
  {
   "cell_type": "code",
   "execution_count": 46,
   "metadata": {},
   "outputs": [
    {
     "data": {
      "image/png": "[encoded data removed]",
      "text/plain": [
       "<Figure size 432x288 with 1 Axes>"
      ]
     },
     "metadata": {},
     "output_type": "display_data"
    }
   ],
   "source": [
    "gendercount=sns.lineplot(x=\"hour\",y=\"Item\",data=all_data).set_title(\"ITEMS PER hour\")"
   ]
  },
  {
   "cell_type": "code",
   "execution_count": 47,
   "metadata": {},
   "outputs": [
    {
     "data": {
      "text/plain": [
       "Text(0.5, 1.0, 'ITEM DEMAND')"
      ]
     },
     "execution_count": 47,
     "metadata": {},
     "output_type": "execute_result"
    },
    {
     "data": {
      "image/png": "[encoded data removed]",
      "text/plain": [
       "<Figure size 432x288 with 1 Axes>"
      ]
     },
     "metadata": {},
     "output_type": "display_data"
    }
   ],
   "source": [
    "sns.countplot(y=\"Item\",data=all_data).set_title(\"ITEM DEMAND\")"
   ]
  },
  {
   "cell_type": "code",
   "execution_count": 51,
   "metadata": {},
   "outputs": [
    {
     "data": {
      "text/plain": [
       "Text(0.5, 1.0, 'ITEM PRICE')"
      ]
     },
     "execution_count": 51,
     "metadata": {},
     "output_type": "execute_result"
    },
    {
     "data": {
      "image/png": "[encoded data removed]",
      "text/plain": [
       "<Figure size 432x288 with 1 Axes>"
      ]
     },
     "metadata": {},
     "output_type": "display_data"
    }
   ],
   "source": [
    "sns.lineplot(y=\"Item\",x=\"Price\",data=all_data).set_title(\"ITEM PRICE\")"
   ]
  },
  {
   "cell_type": "code",
   "execution_count": 55,
   "metadata": {},
   "outputs": [
    {
     "data": {
      "text/plain": [
       "<AxesSubplot:xlabel='Customer', ylabel='Total Sale Amount'>"
      ]
     },
     "execution_count": 55,
     "metadata": {},
     "output_type": "execute_result"
    },
    {
     "data": {
      "image/png": "[encoded data removed]",
      "text/plain": [
       "<Figure size 432x288 with 1 Axes>"
      ]
     },
     "metadata": {},
     "output_type": "display_data"
    }
   ],
   "source": [
    "sns.barplot(x=\"Customer\",y=\"Total Sale Amount\",estimator=sum,data=all_data)\n"
   ]
  },
  {
   "cell_type": "code",
   "execution_count": null,
   "metadata": {},
   "outputs": [],
   "source": []
  }
 ],
 "metadata": {
  "kernelspec": {
   "display_name": "Python 3",
   "language": "python",
   "name": "python3"
  },
  "language_info": {
   "codemirror_mode": {
    "name": "ipython",
    "version": 3
   },
   "file_extension": ".py",
   "mimetype": "text/x-python",
   "name": "python",
   "nbconvert_exporter": "python",
   "pygments_lexer": "ipython3",
   "version": "3.8.5"
  }
 },
 "nbformat": 4,
 "nbformat_minor": 4
}
